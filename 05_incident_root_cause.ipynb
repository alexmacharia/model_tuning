{
 "cells": [
  {
   "cell_type": "code",
   "execution_count": 1,
   "metadata": {},
   "outputs": [],
   "source": [
    "%run 01_common_functions.ipynb"
   ]
  },
  {
   "cell_type": "code",
   "execution_count": 3,
   "metadata": {},
   "outputs": [],
   "source": [
    "def get_rca_data():\n",
    "\n",
    "    symptoms_data = pd.read_csv(\"root_cause_analysis.csv\")\n",
    "\n",
    "    label_encoder = preprocessing.LabelEncoder()\n",
    "    symptoms_data['ROOT_CAUSE'] = label_encoder.fit_transform(symptoms_data['ROOT_CAUSE'])\n",
    "\n",
    "    symptoms_np = symptoms_data.to_numpy().astype(float)\n",
    "\n",
    "    X = symptoms_np[:, 1:8]\n",
    "    y = symptoms_np[:, 8]\n",
    "    y = tf.keras.utils.to_categorica(y, 3)\n",
    "\n",
    "    return X, y\n",
    "\n",
    " "
   ]
  },
  {
   "cell_type": "code",
   "execution_count": null,
   "metadata": {},
   "outputs": [],
   "source": []
  }
 ],
 "metadata": {
  "kernelspec": {
   "display_name": "Python 3.10.9 ('model_tuning')",
   "language": "python",
   "name": "python3"
  },
  "language_info": {
   "codemirror_mode": {
    "name": "ipython",
    "version": 3
   },
   "file_extension": ".py",
   "mimetype": "text/x-python",
   "name": "python",
   "nbconvert_exporter": "python",
   "pygments_lexer": "ipython3",
   "version": "3.10.9"
  },
  "orig_nbformat": 4,
  "vscode": {
   "interpreter": {
    "hash": "f3f5b1a4033b1c488ea3fc5eb225e019fd396e3d99ebb92e3cc49e93718cb518"
   }
  }
 },
 "nbformat": 4,
 "nbformat_minor": 2
}
