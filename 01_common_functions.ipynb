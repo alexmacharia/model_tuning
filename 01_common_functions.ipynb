{
 "cells": [
  {
   "cell_type": "code",
   "execution_count": 2,
   "metadata": {},
   "outputs": [],
   "source": [
    "import os\n",
    "\n",
    "import pandas as pd\n",
    "import numpy as np\n",
    "\n",
    "import tensorflow as tf\n",
    "from tensorflow import keras\n",
    "from sklearn import preprocessing\n",
    "from sklearn.preprocessing import StandardScaler\n",
    "from sklearn.model_selection import train_test_split\n"
   ]
  },
  {
   "cell_type": "code",
   "execution_count": 3,
   "metadata": {},
   "outputs": [],
   "source": [
    "# Convert flower names to numeric values\n",
    "\n",
    "def type_to_numeric(x):\n",
    "    if x == 'setosa':\n",
    "        return 0\n",
    "    elif x == 'versicolor':\n",
    "        return 1\n",
    "    else:\n",
    "        return 2"
   ]
  },
  {
   "cell_type": "code",
   "execution_count": 4,
   "metadata": {},
   "outputs": [],
   "source": [
    "# Read data and preprocess it\n",
    "\n",
    "def get_data():\n",
    "\n",
    "    iris_data = pd.read_csv(\"iris.csv\")\n",
    "\n",
    "    iris_data.dtypes\n",
    "    iris_data.describe()\n",
    "    iris_data.head()\n",
    "\n",
    "    label_encoder = preprocessing.LabelEncoder()\n",
    "    iris_data['Species'] = label_encoder.fit_transform(iris_data['Species'])\n",
    "\n",
    "    np_iris = iris_data.to_numpy()\n",
    "\n",
    "    X = np_iris[:, 0:4]\n",
    "    y = np_iris[:,4]\n",
    "\n",
    "    scaler = StandardScaler().fit(X)\n",
    "\n",
    "    X = scaler.transform(X)\n",
    "\n",
    "    y = tf.jeras.utils.to_categorical(Y, 3)\n",
    "\n",
    "    return X, y\n"
   ]
  },
  {
   "cell_type": "code",
   "execution_count": null,
   "metadata": {},
   "outputs": [],
   "source": []
  }
 ],
 "metadata": {
  "kernelspec": {
   "display_name": "Python 3.10.9 ('model_tuning')",
   "language": "python",
   "name": "python3"
  },
  "language_info": {
   "codemirror_mode": {
    "name": "ipython",
    "version": 3
   },
   "file_extension": ".py",
   "mimetype": "text/x-python",
   "name": "python",
   "nbconvert_exporter": "python",
   "pygments_lexer": "ipython3",
   "version": "3.10.9"
  },
  "orig_nbformat": 4,
  "vscode": {
   "interpreter": {
    "hash": "f3f5b1a4033b1c488ea3fc5eb225e019fd396e3d99ebb92e3cc49e93718cb518"
   }
  }
 },
 "nbformat": 4,
 "nbformat_minor": 2
}
