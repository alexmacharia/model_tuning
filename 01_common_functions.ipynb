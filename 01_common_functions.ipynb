{
 "cells": [
  {
   "cell_type": "code",
   "execution_count": 2,
   "metadata": {},
   "outputs": [],
   "source": [
    "import os\n",
    "\n",
    "import pandas as pd\n",
    "import numpy as np\n",
    "\n",
    "import tensorflow as tf\n",
    "from tensorflow import keras\n",
    "from sklearn import preprocessing\n",
    "from sklearn.preprocessing import StandardScaler\n",
    "from sklearn.model_selection import train_test_split\n"
   ]
  },
  {
   "cell_type": "code",
   "execution_count": 3,
   "metadata": {},
   "outputs": [],
   "source": [
    "# Convert flower names to numeric values\n",
    "\n",
    "def type_to_numeric(x):\n",
    "    if x == 'setosa':\n",
    "        return 0\n",
    "    elif x == 'versicolor':\n",
    "        return 1\n",
    "    else:\n",
    "        return 2"
   ]
  },
  {
   "cell_type": "code",
   "execution_count": 4,
   "metadata": {},
   "outputs": [],
   "source": [
    "# Read data and preprocess it\n",
    "\n",
    "def get_data():\n",
    "\n",
    "    iris_data = pd.read_csv(\"iris.csv\")\n",
    "\n",
    "    iris_data.dtypes\n",
    "    iris_data.describe()\n",
    "    iris_data.head()\n",
    "\n",
    "    label_encoder = preprocessing.LabelEncoder()\n",
    "    iris_data['Species'] = label_encoder.fit_transform(iris_data['Species'])\n",
    "\n",
    "    np_iris = iris_data.to_numpy()\n",
    "\n",
    "    X = np_iris[:, 0:4]\n",
    "    y = np_iris[:,4]\n",
    "\n",
    "    scaler = StandardScaler().fit(X)\n",
    "\n",
    "    X = scaler.transform(X)\n",
    "\n",
    "    y = tf.jeras.utils.to_categorical(Y, 3)\n",
    "\n",
    "    return X, y\n"
   ]
  },
  {
   "cell_type": "code",
   "execution_count": 5,
   "metadata": {},
   "outputs": [],
   "source": [
    "# Create default model configurations\n",
    "\n",
    "def base_model_config():\n",
    "    model_config = {\n",
    "        \"HIDDEN_NODES\": [32, 64],\n",
    "        \"HIDDEN_ACTIVATION\": \"relu\",\n",
    "        \"OUTPUT_NODES\": 3,\n",
    "        \"OUTPUT_ACTIVATION\": \"softmax\",\n",
    "        \"WEIGHTS_INITIALIZER\": \"random_normal\",\n",
    "        \"BIAS_INITIALIZER\": \"zeros\",\n",
    "        \"NORMALIZATION\": \"none\",\n",
    "        \"OPTIMIZER\": \"rmsprop\",\n",
    "        \"LEARNING_RATE\": 0.001,\n",
    "        \"REGULARIZER\": None,\n",
    "        \"DROPOUT_RATE\": 0.0,\n",
    "        \"EPOCHS\": 10,\n",
    "        \"BATCH_SIZE\": 16,\n",
    "        \"VALIDATION_SPLIT\": 0.2,\n",
    "        \"VERBOSE\": 0,\n",
    "        \"LOSS_FUNCTION\": \"categorical_crossentropy\",\n",
    "        \"METRICS\": [\"accuracy\"]\n",
    "    }\n",
    "    return model_config"
   ]
  },
  {
   "cell_type": "code",
   "execution_count": 6,
   "metadata": {},
   "outputs": [],
   "source": [
    "# Optimizer function\n",
    "\n",
    "def get_optimizer(optimizer_name, learning_rate):\n",
    "    optimizer = None\n",
    "\n",
    "    if optimizer_name == 'adagrad':\n",
    "        optimizer = keras.optimizers.Adagrad(learning_rate=learning_rate)\n",
    "    \n",
    "    elif 'rmsprop':\n",
    "        optimizer = keras.optimizers.RMSprop(learning_rate=learning_rate)\n",
    "\n",
    "    elif 'adam':\n",
    "        optimizer = keras.optimizers.Adam(learning_rate=learning_rate)\n",
    "\n",
    "    else:\n",
    "        optimizer = keras.optimizers.SGD(learning_rate=learning_rate)\n",
    "\n",
    "    return optimizer"
   ]
  },
  {
   "cell_type": "code",
   "execution_count": 7,
   "metadata": {},
   "outputs": [],
   "source": [
    "# Create and fit model\n",
    "\n",
    "def create_and_run_model(model_config, X, y, model_name):\n",
    "\n",
    "    model = tf.keras.models.Sequential(name=model_name)\n",
    "\n",
    "    for layer in range(len(model_config['HIDDEN_NODES'])):\n",
    "\n",
    "        if (layer == 0):\n",
    "            model.add(\n",
    "                keras.layers.Dense(model_config['HIDDEN_NODES'][layer],\n",
    "                input_shape=(X.shape[1],),\n",
    "                name = \"Dense-Layer-\" + str(layer),\n",
    "                kernel_initializer = model_config[\"WEIGHTS_INITIALIZER\"],\n",
    "                bias_initializer = model_config[\"BIAS_INITIALIZER\"],\n",
    "                kernel_regularizer = model_config[\"REGULARIZER\"],\n",
    "                activation = model_config[\"HIDDEN_ACTIVATION\"])\n",
    "            )\n",
    "        else:\n",
    "\n",
    "            if (model_config[\"NORMALIZATION\"] == \"batch\"):\n",
    "                model.add(keras.layers.BatchNormalization())\n",
    "\n",
    "            if (model_config[\"DROPOUT_RATE\"] > 0.0):\n",
    "                model.add(keras.layers.Dropout(model_config[\"DROPOUT_RATE\"]))\n",
    "\n",
    "            model.add(\n",
    "                keras.layers.Dense(model_config[\"HIDDEN_NODES\"][layer],\n",
    "                name=\"Dense-Layer-\" + str(layer),\n",
    "                kernel_initializer = model_config[\"WEIGHTS_INITIALIZER\"],\n",
    "                bias_initializer = model_config[\"BIAS_INITIALIZER\"],\n",
    "                kernel_regularizer = model_config[\"REGULARIZER\"],\n",
    "                activation = model_config[\"HIDDEN_ACTIVATION\"])\n",
    "            )\n",
    "    model.add(keras.layers.Dense(model_config[\"OUTPUT_NODES\"],\n",
    "        name=\"Output-Layer\",\n",
    "        activation = model_config[\"OUTPUT_ACTIVATION\"]))\n",
    "\n",
    "    optimizer = get_optimizer(model_config[\"OPTIMIZER\"],\n",
    "                              model_config[\"LEARNING_RATE\"])\n",
    "\n",
    "    model.compile(loss = model_config[\"LOSS_FUNCTION\"],\n",
    "        optimizer = optimizer,\n",
    "        metrics = model_config[\"METRICS\"])\n",
    "\n",
    "    model.summary()\n",
    "\n",
    "        "
   ]
  },
  {
   "cell_type": "code",
   "execution_count": null,
   "metadata": {},
   "outputs": [],
   "source": []
  }
 ],
 "metadata": {
  "kernelspec": {
   "display_name": "Python 3.10.9 ('model_tuning')",
   "language": "python",
   "name": "python3"
  },
  "language_info": {
   "codemirror_mode": {
    "name": "ipython",
    "version": 3
   },
   "file_extension": ".py",
   "mimetype": "text/x-python",
   "name": "python",
   "nbconvert_exporter": "python",
   "pygments_lexer": "ipython3",
   "version": "3.10.9"
  },
  "orig_nbformat": 4,
  "vscode": {
   "interpreter": {
    "hash": "f3f5b1a4033b1c488ea3fc5eb225e019fd396e3d99ebb92e3cc49e93718cb518"
   }
  }
 },
 "nbformat": 4,
 "nbformat_minor": 2
}
